{
 "cells": [
  {
   "cell_type": "code",
   "execution_count": 2,
   "metadata": {},
   "outputs": [],
   "source": [
    "import os\n",
    "import json\n",
    "import random\n",
    "import pickle\n",
    "import math\n",
    "from pathlib import Path\n",
    "from utils import Tokenizer, Embedding\n",
    "from torch.nn.utils import clip_grad_norm\n",
    "from dataset import Seq2SeqDataset\n",
    "from tqdm import tqdm\n",
    "import torch\n",
    "import torch.nn as nn\n",
    "import torch.nn.functional as F\n",
    "from torch import optim"
   ]
  },
  {
   "cell_type": "code",
   "execution_count": 3,
   "metadata": {},
   "outputs": [],
   "source": [
    "with open(\"../datasets/seq2seq/train.pkl\", \"rb\") as f:\n",
    "    training = pickle.load(f)\n",
    "with open(\"../datasets/seq2seq/valid.pkl\", \"rb\") as f:\n",
    "    valid = pickle.load(f)\n",
    "with open(\"../datasets/seq2seq/embedding.pkl\", \"rb\") as f:\n",
    "    embedding = pickle.load(f)"
   ]
  },
  {
   "cell_type": "code",
   "execution_count": 4,
   "metadata": {},
   "outputs": [
    {
     "name": "stdout",
     "output_type": "stream",
     "text": [
      "cuda\n",
      "1.0.0\n"
     ]
    }
   ],
   "source": [
    "os.environ[\"CUDA_VISIBLE_DEVICES\"] = \"0\"\n",
    "device = torch.device(\"cuda\" if torch.cuda.is_available() else \"cpu\")\n",
    "print(device)\n",
    "print(torch.__version__)"
   ]
  },
  {
   "cell_type": "code",
   "execution_count": 5,
   "metadata": {},
   "outputs": [],
   "source": [
    "import matplotlib.pyplot as plt\n",
    "plt.switch_backend('agg')\n",
    "import matplotlib.ticker as ticker\n",
    "import numpy as np\n",
    "get_ipython().run_line_magic('matplotlib', 'inline')\n",
    "\n",
    "def showPlot(points):\n",
    "    plt.figure()\n",
    "    fig, ax = plt.subplots()\n",
    "    # this locator puts ticks at regular intervals\n",
    "    loc = ticker.MultipleLocator(base=0.2)\n",
    "    ax.yaxis.set_major_locator(loc)\n",
    "    plt.plot(points)\n",
    "    plt.show()"
   ]
  },
  {
   "cell_type": "code",
   "execution_count": 20,
   "metadata": {},
   "outputs": [],
   "source": [
    "import math\n",
    "import torch\n",
    "import random\n",
    "from torch import nn\n",
    "from torch.autograd import Variable\n",
    "import torch.nn.functional as F\n",
    "\n",
    "\n",
    "\n",
    "class Encoder(nn.Module):\n",
    "    def __init__(self, input_size, embedding, hidden_size,\n",
    "                 n_layers=1, dropout=0.5):\n",
    "        super(Encoder, self).__init__()\n",
    "        self.input_size = input_size\n",
    "        self.hidden_size = hidden_size\n",
    "#         self.embed_size = embed_size\n",
    "        emb = nn.Embedding(input_size, hidden_size)\n",
    "        emb.weight.data.copy_(embedding.vectors)\n",
    "        self.embed = emb\n",
    "        self.gru = nn.GRU(embed_size, hidden_size, n_layers,\n",
    "                          dropout=dropout, bidirectional=True)\n",
    "\n",
    "    def forward(self, src, hidden=None):\n",
    "        embedded = self.embed(src)\n",
    "        outputs, hidden = self.gru(embedded, hidden)\n",
    "        # sum bidirectional outputs\n",
    "        outputs = (outputs[:, :, :self.hidden_size] +\n",
    "                   outputs[:, :, self.hidden_size:])\n",
    "        return outputs, hidden\n",
    "\n",
    "\n",
    "class Attention(nn.Module):\n",
    "    def __init__(self, hidden_size):\n",
    "        super(Attention, self).__init__()\n",
    "        self.hidden_size = hidden_size\n",
    "        self.attn = nn.Linear(self.hidden_size * 2, hidden_size)\n",
    "        self.v = nn.Parameter(torch.rand(hidden_size))\n",
    "        stdv = 1. / math.sqrt(self.v.size(0))\n",
    "        self.v.data.uniform_(-stdv, stdv)\n",
    "\n",
    "    def forward(self, hidden, encoder_outputs):\n",
    "        timestep = encoder_outputs.size(0)\n",
    "        h = hidden.repeat(timestep, 1, 1).transpose(0, 1)\n",
    "        encoder_outputs = encoder_outputs.transpose(0, 1)  # [B*T*H]\n",
    "        attn_energies = self.score(h, encoder_outputs)\n",
    "        return F.softmax(attn_energies, dim=1).unsqueeze(1)\n",
    "\n",
    "    def score(self, hidden, encoder_outputs):\n",
    "        # [B*T*2H]->[B*T*H]\n",
    "        energy = F.relu(self.attn(torch.cat([hidden, encoder_outputs], 2)))\n",
    "        energy = energy.transpose(1, 2)  # [B*H*T]\n",
    "        v = self.v.repeat(encoder_outputs.size(0), 1).unsqueeze(1)  # [B*1*H]\n",
    "        energy = torch.bmm(v, energy)  # [B*1*T]\n",
    "        return energy.squeeze(1)  # [B*T]\n",
    "\n",
    "\n",
    "class Decoder(nn.Module):\n",
    "    def __init__(self, embedding, hidden_size, output_size,\n",
    "                 n_layers=1, dropout=0.2):\n",
    "        super(Decoder, self).__init__()\n",
    "        self.embed_size = embed_size\n",
    "        self.hidden_size = hidden_size\n",
    "        self.output_size = output_size\n",
    "        self.n_layers = n_layers\n",
    "        emb = nn.Embedding(output_size, hidden_size)\n",
    "        emb.weight.data.copy_(embedding.vectors)\n",
    "        self.embed = emb\n",
    "        self.dropout = nn.Dropout(dropout, inplace=True)\n",
    "        self.attention = Attention(hidden_size)\n",
    "        self.gru = nn.GRU(hidden_size + embed_size, hidden_size,\n",
    "                          n_layers, dropout=dropout)\n",
    "        self.out = nn.Linear(hidden_size * 2, output_size)\n",
    "\n",
    "    def forward(self, input, last_hidden, encoder_outputs):\n",
    "        # Get the embedding of the current input word (last output word)\n",
    "        embedded = self.embed(input).unsqueeze(0)  # (1,B,N)\n",
    "        embedded = self.dropout(embedded)\n",
    "        # Calculate attention weights and apply to encoder outputs\n",
    "        attn_weights = self.attention(last_hidden[-1], encoder_outputs)\n",
    "        context = attn_weights.bmm(encoder_outputs.transpose(0, 1))  # (B,1,N)\n",
    "        context = context.transpose(0, 1)  # (1,B,N)\n",
    "        # Combine embedded input word and attended context, run through RNN\n",
    "        rnn_input = torch.cat([embedded, context], 2)\n",
    "        output, hidden = self.gru(rnn_input, last_hidden)\n",
    "        output = output.squeeze(0)  # (1,B,N) -> (B,N)\n",
    "        context = context.squeeze(0)\n",
    "        output = self.out(torch.cat([output, context], 1))\n",
    "        output = F.log_softmax(output, dim=1)\n",
    "        return output, hidden, attn_weights\n",
    "\n",
    "\n",
    "class Seq2Seq(nn.Module):\n",
    "    def __init__(self, encoder, decoder):\n",
    "        super(Seq2Seq, self).__init__()\n",
    "        self.encoder = encoder\n",
    "        self.decoder = decoder\n",
    "\n",
    "    def forward(self, src, trg, teacher_forcing_ratio=0.5):\n",
    "        batch_size = src.size(1)\n",
    "        max_len = trg.size(0)\n",
    "        vocab_size = self.decoder.output_size\n",
    "        outputs = Variable(torch.zeros(max_len, batch_size, vocab_size)).cuda()\n",
    "\n",
    "        encoder_output, hidden = self.encoder(src)\n",
    "        hidden = hidden[:self.decoder.n_layers]\n",
    "        output = Variable(trg.data[0, :])  # sos\n",
    "        for t in range(1, max_len):\n",
    "            output, hidden, attn_weights = self.decoder(\n",
    "                    output, hidden, encoder_output)\n",
    "            outputs[t] = output\n",
    "            is_teacher = random.random() < teacher_forcing_ratio\n",
    "            top1 = output.data.max(1)[1]\n",
    "            output = Variable(trg.data[t] if is_teacher else top1).cuda()\n",
    "        return outputs\n",
    "    \n",
    "def val_eval(model, val_iter, vocab_size):\n",
    "#     model.eval()\n",
    "    pad = 0\n",
    "    total_loss = 0\n",
    "    breaker = len(val_iter)\n",
    "    with torch.no_grad():\n",
    "        for b, batch in enumerate(val_iter):\n",
    "            src = batch['text'].t().to(device)\n",
    "            trg = batch['summary'].t().to(device)\n",
    "            output = model(src, trg, teacher_forcing_ratio=0.0)\n",
    "            loss = F.nll_loss(output[1:].view(-1, vocab_size),\n",
    "                                   trg[1:].contiguous().view(-1),\n",
    "                                   ignore_index=pad)\n",
    "            total_loss += loss\n",
    "    return total_loss/breaker"
   ]
  },
  {
   "cell_type": "code",
   "execution_count": 10,
   "metadata": {},
   "outputs": [],
   "source": [
    "grad_clip = 50\n",
    "en_size = len(embedding.vocab)\n",
    "embed_size = 300\n",
    "hidden_size = 300\n",
    "batch_size=16\n",
    "lr=0.0001"
   ]
  },
  {
   "cell_type": "code",
   "execution_count": 21,
   "metadata": {},
   "outputs": [],
   "source": [
    "teacher_forcing_ratio = 0.5\n",
    "PAD_token = 0\n",
    "SOS_token = 1\n",
    "EOS_token = 2\n",
    "\n",
    "def train(e, model, optimizer, train_iter, vocab_size, grad_clip):\n",
    "    model.train()\n",
    "    total_loss = 0\n",
    "    pad = 0\n",
    "    for b, batch in tqdm(enumerate(train_iter)):\n",
    "        src = batch['text'].t().cuda()\n",
    "        trg = batch['summary'].t().cuda()\n",
    "        optimizer.zero_grad()\n",
    "        output = model(src, trg)\n",
    "        loss = F.nll_loss(output[1:].view(-1, vocab_size),\n",
    "                               trg[1:].contiguous().view(-1),\n",
    "                               ignore_index=pad)\n",
    "        loss.backward()\n",
    "        clip_grad_norm(model.parameters(), grad_clip)\n",
    "        optimizer.step()\n",
    "#         print(loss)\n",
    "        total_loss += loss\n",
    "\n",
    "        if b % 1000 == 0 and b != 0:\n",
    "            total_loss = total_loss / 1000\n",
    "            print(\"[%d][loss:%5.2f][pp:%5.2f]\" %\n",
    "                  (b, total_loss, math.exp(total_loss)))\n",
    "            total_loss = 0\n",
    "        \n",
    "    return total_loss / len(train_iter)"
   ]
  },
  {
   "cell_type": "code",
   "execution_count": 12,
   "metadata": {},
   "outputs": [
    {
     "name": "stdout",
     "output_type": "stream",
     "text": [
      "Seq2Seq(\n",
      "  (encoder): Encoder(\n",
      "    (embed): Embedding(97513, 300)\n",
      "    (gru): GRU(300, 300, num_layers=2, dropout=0.2, bidirectional=True)\n",
      "  )\n",
      "  (decoder): Decoder(\n",
      "    (embed): Embedding(97513, 300)\n",
      "    (dropout): Dropout(p=0.2, inplace)\n",
      "    (attention): Attention(\n",
      "      (attn): Linear(in_features=600, out_features=300, bias=True)\n",
      "    )\n",
      "    (gru): GRU(600, 300, dropout=0.2)\n",
      "    (out): Linear(in_features=600, out_features=97513, bias=True)\n",
      "  )\n",
      ")\n"
     ]
    }
   ],
   "source": [
    "encoder = Encoder(en_size, embedding, hidden_size,\n",
    "                  n_layers=2, dropout=0.2)\n",
    "decoder = Decoder(embedding, hidden_size, en_size,\n",
    "                  n_layers=1, dropout=0.2)\n",
    "seq2seq = Seq2Seq(encoder, decoder).cuda()\n",
    "\n",
    "optimizer = optim.Adam(seq2seq.parameters(), lr)\n",
    "print(seq2seq)"
   ]
  },
  {
   "cell_type": "code",
   "execution_count": 40,
   "metadata": {
    "scrolled": true
   },
   "outputs": [
    {
     "name": "stderr",
     "output_type": "stream",
     "text": [
      "/home/littleemma/ImageDB/imagedb/lib/python3.6/site-packages/ipykernel_launcher.py:10: TqdmDeprecationWarning: Please use `tqdm.notebook.trange` instead of `tqdm.tnrange`\n",
      "  # Remove the CWD from sys.path while we load stuff.\n"
     ]
    },
    {
     "data": {
      "application/vnd.jupyter.widget-view+json": {
       "model_id": "2cfc280c8b02495d8a955a660f9dfb46",
       "version_major": 2,
       "version_minor": 0
      },
      "text/plain": [
       "HBox(children=(IntProgress(value=0, max=5), HTML(value='')))"
      ]
     },
     "metadata": {},
     "output_type": "display_data"
    },
    {
     "name": "stderr",
     "output_type": "stream",
     "text": [
      "0it [00:00, ?it/s]/home/littleemma/ImageDB/imagedb/lib/python3.6/site-packages/ipykernel_launcher.py:19: UserWarning: torch.nn.utils.clip_grad_norm is now deprecated in favor of torch.nn.utils.clip_grad_norm_.\n",
      "1001it [07:34,  1.94it/s]"
     ]
    },
    {
     "name": "stdout",
     "output_type": "stream",
     "text": [
      "[1000][loss: 3.36][pp:28.69]\n"
     ]
    },
    {
     "name": "stderr",
     "output_type": "stream",
     "text": [
      "2001it [15:15,  1.89it/s]"
     ]
    },
    {
     "name": "stdout",
     "output_type": "stream",
     "text": [
      "[2000][loss: 3.34][pp:28.13]\n"
     ]
    },
    {
     "name": "stderr",
     "output_type": "stream",
     "text": [
      "3001it [22:52,  1.76it/s]"
     ]
    },
    {
     "name": "stdout",
     "output_type": "stream",
     "text": [
      "[3000][loss: 3.30][pp:27.12]\n"
     ]
    },
    {
     "name": "stderr",
     "output_type": "stream",
     "text": [
      "4001it [30:28,  1.91it/s]"
     ]
    },
    {
     "name": "stdout",
     "output_type": "stream",
     "text": [
      "[4000][loss: 3.30][pp:27.10]\n"
     ]
    },
    {
     "name": "stderr",
     "output_type": "stream",
     "text": [
      "4476it [34:05,  2.19it/s]\n"
     ]
    },
    {
     "name": "stdout",
     "output_type": "stream",
     "text": [
      "[Epoch:0] val_loss:6.383 | val_pp:591.55S\n",
      "[!] saving model...\n"
     ]
    },
    {
     "data": {
      "text/plain": [
       "<Figure size 432x288 with 0 Axes>"
      ]
     },
     "metadata": {},
     "output_type": "display_data"
    },
    {
     "data": {
      "image/png": "[encoded data removed]",
      "text/plain": [
       "<Figure size 432x288 with 1 Axes>"
      ]
     },
     "metadata": {
      "needs_background": "light"
     },
     "output_type": "display_data"
    },
    {
     "name": "stderr",
     "output_type": "stream",
     "text": [
      "1001it [07:35,  1.89it/s]"
     ]
    },
    {
     "name": "stdout",
     "output_type": "stream",
     "text": [
      "[1000][loss: 3.16][pp:23.49]\n"
     ]
    },
    {
     "name": "stderr",
     "output_type": "stream",
     "text": [
      "2001it [15:09,  1.79it/s]"
     ]
    },
    {
     "name": "stdout",
     "output_type": "stream",
     "text": [
      "[2000][loss: 3.16][pp:23.63]\n"
     ]
    },
    {
     "name": "stderr",
     "output_type": "stream",
     "text": [
      "3001it [22:44,  1.94it/s]"
     ]
    },
    {
     "name": "stdout",
     "output_type": "stream",
     "text": [
      "[3000][loss: 3.17][pp:23.92]\n"
     ]
    },
    {
     "name": "stderr",
     "output_type": "stream",
     "text": [
      "4001it [30:25,  1.83it/s]"
     ]
    },
    {
     "name": "stdout",
     "output_type": "stream",
     "text": [
      "[4000][loss: 3.17][pp:23.82]\n"
     ]
    },
    {
     "name": "stderr",
     "output_type": "stream",
     "text": [
      "4476it [34:01,  2.19it/s]\n"
     ]
    },
    {
     "name": "stdout",
     "output_type": "stream",
     "text": [
      "[Epoch:1] val_loss:6.392 | val_pp:596.83S\n"
     ]
    },
    {
     "data": {
      "text/plain": [
       "<Figure size 432x288 with 0 Axes>"
      ]
     },
     "metadata": {},
     "output_type": "display_data"
    },
    {
     "data": {
      "image/png": "[encoded data removed]",
      "text/plain": [
       "<Figure size 432x288 with 1 Axes>"
      ]
     },
     "metadata": {
      "needs_background": "light"
     },
     "output_type": "display_data"
    },
    {
     "name": "stderr",
     "output_type": "stream",
     "text": [
      "1001it [07:38,  1.70it/s]"
     ]
    },
    {
     "name": "stdout",
     "output_type": "stream",
     "text": [
      "[1000][loss: 3.05][pp:21.06]\n"
     ]
    },
    {
     "name": "stderr",
     "output_type": "stream",
     "text": [
      "2001it [15:14,  1.87it/s]"
     ]
    },
    {
     "name": "stdout",
     "output_type": "stream",
     "text": [
      "[2000][loss: 3.07][pp:21.54]\n"
     ]
    },
    {
     "name": "stderr",
     "output_type": "stream",
     "text": [
      "3001it [22:53,  1.75it/s]"
     ]
    },
    {
     "name": "stdout",
     "output_type": "stream",
     "text": [
      "[3000][loss: 3.05][pp:21.20]\n"
     ]
    },
    {
     "name": "stderr",
     "output_type": "stream",
     "text": [
      "3149it [24:02,  2.20it/s]"
     ]
    },
    {
     "ename": "KeyboardInterrupt",
     "evalue": "",
     "output_type": "error",
     "traceback": [
      "\u001b[0;31m---------------------------------------------------------------------------\u001b[0m",
      "\u001b[0;31mKeyboardInterrupt\u001b[0m                         Traceback (most recent call last)",
      "\u001b[0;32m<ipython-input-40-c86a7cf25fc9>\u001b[0m in \u001b[0;36m<module>\u001b[0;34m\u001b[0m\n\u001b[1;32m     11\u001b[0m     \u001b[0mtrain_iter\u001b[0m \u001b[0;34m=\u001b[0m \u001b[0mtorch\u001b[0m\u001b[0;34m.\u001b[0m\u001b[0mutils\u001b[0m\u001b[0;34m.\u001b[0m\u001b[0mdata\u001b[0m\u001b[0;34m.\u001b[0m\u001b[0mDataLoader\u001b[0m\u001b[0;34m(\u001b[0m\u001b[0mtraining\u001b[0m\u001b[0;34m,\u001b[0m \u001b[0mbatch_size\u001b[0m\u001b[0;34m,\u001b[0m \u001b[0mshuffle\u001b[0m\u001b[0;34m=\u001b[0m\u001b[0;32mTrue\u001b[0m\u001b[0;34m,\u001b[0m\u001b[0mcollate_fn\u001b[0m\u001b[0;34m=\u001b[0m\u001b[0mtraining\u001b[0m\u001b[0;34m.\u001b[0m\u001b[0mcollate_fn\u001b[0m\u001b[0;34m)\u001b[0m\u001b[0;34m\u001b[0m\u001b[0;34m\u001b[0m\u001b[0m\n\u001b[1;32m     12\u001b[0m     loss = train(e, seq2seq, optimizer, train_iter,\n\u001b[0;32m---> 13\u001b[0;31m           len(embedding.vocab), grad_clip)\n\u001b[0m\u001b[1;32m     14\u001b[0m     \u001b[0mplot_loss\u001b[0m\u001b[0;34m.\u001b[0m\u001b[0mappend\u001b[0m\u001b[0;34m(\u001b[0m\u001b[0mloss\u001b[0m\u001b[0;34m.\u001b[0m\u001b[0mitem\u001b[0m\u001b[0;34m(\u001b[0m\u001b[0;34m)\u001b[0m\u001b[0;34m)\u001b[0m\u001b[0;34m\u001b[0m\u001b[0;34m\u001b[0m\u001b[0m\n\u001b[1;32m     15\u001b[0m \u001b[0;34m\u001b[0m\u001b[0m\n",
      "\u001b[0;32m<ipython-input-21-af93e605d004>\u001b[0m in \u001b[0;36mtrain\u001b[0;34m(e, model, optimizer, train_iter, vocab_size, grad_clip)\u001b[0m\n\u001b[1;32m     16\u001b[0m                                \u001b[0mtrg\u001b[0m\u001b[0;34m[\u001b[0m\u001b[0;36m1\u001b[0m\u001b[0;34m:\u001b[0m\u001b[0;34m]\u001b[0m\u001b[0;34m.\u001b[0m\u001b[0mcontiguous\u001b[0m\u001b[0;34m(\u001b[0m\u001b[0;34m)\u001b[0m\u001b[0;34m.\u001b[0m\u001b[0mview\u001b[0m\u001b[0;34m(\u001b[0m\u001b[0;34m-\u001b[0m\u001b[0;36m1\u001b[0m\u001b[0;34m)\u001b[0m\u001b[0;34m,\u001b[0m\u001b[0;34m\u001b[0m\u001b[0;34m\u001b[0m\u001b[0m\n\u001b[1;32m     17\u001b[0m                                ignore_index=pad)\n\u001b[0;32m---> 18\u001b[0;31m         \u001b[0mloss\u001b[0m\u001b[0;34m.\u001b[0m\u001b[0mbackward\u001b[0m\u001b[0;34m(\u001b[0m\u001b[0;34m)\u001b[0m\u001b[0;34m\u001b[0m\u001b[0;34m\u001b[0m\u001b[0m\n\u001b[0m\u001b[1;32m     19\u001b[0m         \u001b[0mclip_grad_norm\u001b[0m\u001b[0;34m(\u001b[0m\u001b[0mmodel\u001b[0m\u001b[0;34m.\u001b[0m\u001b[0mparameters\u001b[0m\u001b[0;34m(\u001b[0m\u001b[0;34m)\u001b[0m\u001b[0;34m,\u001b[0m \u001b[0mgrad_clip\u001b[0m\u001b[0;34m)\u001b[0m\u001b[0;34m\u001b[0m\u001b[0;34m\u001b[0m\u001b[0m\n\u001b[1;32m     20\u001b[0m         \u001b[0moptimizer\u001b[0m\u001b[0;34m.\u001b[0m\u001b[0mstep\u001b[0m\u001b[0;34m(\u001b[0m\u001b[0;34m)\u001b[0m\u001b[0;34m\u001b[0m\u001b[0;34m\u001b[0m\u001b[0m\n",
      "\u001b[0;32m~/ImageDB/imagedb/lib/python3.6/site-packages/torch/tensor.py\u001b[0m in \u001b[0;36mbackward\u001b[0;34m(self, gradient, retain_graph, create_graph)\u001b[0m\n\u001b[1;32m    100\u001b[0m                 \u001b[0mproducts\u001b[0m\u001b[0;34m.\u001b[0m \u001b[0mDefaults\u001b[0m \u001b[0mto\u001b[0m\u001b[0;31m \u001b[0m\u001b[0;31m`\u001b[0m\u001b[0;31m`\u001b[0m\u001b[0;32mFalse\u001b[0m\u001b[0;31m`\u001b[0m\u001b[0;31m`\u001b[0m\u001b[0;34m.\u001b[0m\u001b[0;34m\u001b[0m\u001b[0;34m\u001b[0m\u001b[0m\n\u001b[1;32m    101\u001b[0m         \"\"\"\n\u001b[0;32m--> 102\u001b[0;31m         \u001b[0mtorch\u001b[0m\u001b[0;34m.\u001b[0m\u001b[0mautograd\u001b[0m\u001b[0;34m.\u001b[0m\u001b[0mbackward\u001b[0m\u001b[0;34m(\u001b[0m\u001b[0mself\u001b[0m\u001b[0;34m,\u001b[0m \u001b[0mgradient\u001b[0m\u001b[0;34m,\u001b[0m \u001b[0mretain_graph\u001b[0m\u001b[0;34m,\u001b[0m \u001b[0mcreate_graph\u001b[0m\u001b[0;34m)\u001b[0m\u001b[0;34m\u001b[0m\u001b[0;34m\u001b[0m\u001b[0m\n\u001b[0m\u001b[1;32m    103\u001b[0m \u001b[0;34m\u001b[0m\u001b[0m\n\u001b[1;32m    104\u001b[0m     \u001b[0;32mdef\u001b[0m \u001b[0mregister_hook\u001b[0m\u001b[0;34m(\u001b[0m\u001b[0mself\u001b[0m\u001b[0;34m,\u001b[0m \u001b[0mhook\u001b[0m\u001b[0;34m)\u001b[0m\u001b[0;34m:\u001b[0m\u001b[0;34m\u001b[0m\u001b[0;34m\u001b[0m\u001b[0m\n",
      "\u001b[0;32m~/ImageDB/imagedb/lib/python3.6/site-packages/torch/autograd/__init__.py\u001b[0m in \u001b[0;36mbackward\u001b[0;34m(tensors, grad_tensors, retain_graph, create_graph, grad_variables)\u001b[0m\n\u001b[1;32m     88\u001b[0m     Variable._execution_engine.run_backward(\n\u001b[1;32m     89\u001b[0m         \u001b[0mtensors\u001b[0m\u001b[0;34m,\u001b[0m \u001b[0mgrad_tensors\u001b[0m\u001b[0;34m,\u001b[0m \u001b[0mretain_graph\u001b[0m\u001b[0;34m,\u001b[0m \u001b[0mcreate_graph\u001b[0m\u001b[0;34m,\u001b[0m\u001b[0;34m\u001b[0m\u001b[0;34m\u001b[0m\u001b[0m\n\u001b[0;32m---> 90\u001b[0;31m         allow_unreachable=True)  # allow_unreachable flag\n\u001b[0m\u001b[1;32m     91\u001b[0m \u001b[0;34m\u001b[0m\u001b[0m\n\u001b[1;32m     92\u001b[0m \u001b[0;34m\u001b[0m\u001b[0m\n",
      "\u001b[0;31mKeyboardInterrupt\u001b[0m: "
     ]
    }
   ],
   "source": [
    "from tqdm import tnrange\n",
    "val_iter = torch.utils.data.DataLoader(valid, batch_size, shuffle=True,collate_fn=valid.collate_fn)\n",
    "best_loss = 10000\n",
    "# iteration = len(train_iter)\n",
    "\n",
    "print_per = 1000\n",
    "plot_per = 5000\n",
    "print_loss = 0\n",
    "plot_loss = []\n",
    "for e in tnrange(5):\n",
    "    train_iter = torch.utils.data.DataLoader(training, batch_size, shuffle=True,collate_fn=training.collate_fn)\n",
    "    loss = train(e, seq2seq, optimizer, train_iter,\n",
    "          len(embedding.vocab), grad_clip)\n",
    "    plot_loss.append(loss.item())\n",
    "    \n",
    "    val_loss = val_eval(seq2seq, val_iter, en_size)\n",
    "    print(\"[Epoch:%d] val_loss:%5.3f | val_pp:%5.2fS\"\n",
    "              % (e, val_loss, math.exp(val_loss)))\n",
    "    \n",
    "    \n",
    "    if not best_loss or val_loss < best_loss:\n",
    "        print(\"[!] saving model...\")\n",
    "        if not os.path.isdir(\"save\"):\n",
    "            os.makedirs(\"save\")\n",
    "        torch.save(seq2seq.state_dict(), './save/seq2seq(attention)_%d.pt' % (e))\n",
    "        best_loss = val_loss\n",
    "    \n",
    "    showPlot(plot_loss)"
   ]
  },
  {
   "cell_type": "code",
   "execution_count": 15,
   "metadata": {},
   "outputs": [
    {
     "ename": "IndentationError",
     "evalue": "unexpected indent (<ipython-input-15-1c71fc756540>, line 17)",
     "output_type": "error",
     "traceback": [
      "\u001b[0;36m  File \u001b[0;32m\"<ipython-input-15-1c71fc756540>\"\u001b[0;36m, line \u001b[0;32m17\u001b[0m\n\u001b[0;31m    print(\"[Epoch:%d] val_loss:%5.3f | val_pp:%5.2fS\"\u001b[0m\n\u001b[0m    ^\u001b[0m\n\u001b[0;31mIndentationError\u001b[0m\u001b[0;31m:\u001b[0m unexpected indent\n"
     ]
    }
   ],
   "source": [
    "SOS_token = 1\n",
    "EOS_token = 2\n",
    "\n",
    "def generate_pair(data):\n",
    "    pairs = []\n",
    "    input_length = len(data.data)\n",
    "    for i in range(input_length):\n",
    "        input = data.__getitem__(i)['text']\n",
    "        output = data.__getitem__(i)['summary']\n",
    "        id = data.__getitem__(i)['id']\n",
    "        pairs.append((input, output, id))\n",
    "    return pairs\n",
    "\n",
    "\n",
    "class Sentence:\n",
    "    def __init__(self, decoder_hidden, last_idx=SOS_token, sentence_idxes=[], sentence_scores=[]):\n",
    "        if(len(sentence_idxes) != len(sentence_scores)):\n",
    "            raise ValueError(\"length of indexes and scores should be the same\")\n",
    "        self.decoder_hidden = decoder_hidden\n",
    "        self.last_idx = last_idx\n",
    "        self.sentence_idxes =  sentence_idxes\n",
    "        self.sentence_scores = sentence_scores\n",
    "\n",
    "    def avgScore(self):\n",
    "        if len(self.sentence_scores) == 0:\n",
    "            raise ValueError(\"Calculate average score of sentence, but got no word\")\n",
    "        # return mean of sentence_score\n",
    "        return sum(self.sentence_scores) / len(self.sentence_scores)\n",
    "\n",
    "    def addTopk(self, topi, topv, decoder_hidden, beam_size, voc):\n",
    "        topv = torch.log(topv)\n",
    "        terminates, sentences = [], []\n",
    "        for i in range(beam_size):\n",
    "            if topi[0][i] == EOS_token:\n",
    "                terminates.append(([voc[idx.item()] for idx in self.sentence_idxes] + ['<EOS>'],\n",
    "                                   self.avgScore())) # tuple(word_list, score_float\n",
    "                continue\n",
    "            idxes = self.sentence_idxes[:] # pass by value\n",
    "            scores = self.sentence_scores[:] # pass by value\n",
    "            idxes.append(topi[0][i])\n",
    "            scores.append(topv[0][i])\n",
    "            sentences.append(Sentence(decoder_hidden, topi[0][i], idxes, scores))\n",
    "        return terminates, sentences\n",
    "\n",
    "    def toWordScore(self, voc):\n",
    "        words = []\n",
    "        for i in range(len(self.sentence_idxes)):\n",
    "            if self.sentence_idxes[i] == EOS_token:\n",
    "                words.append('<EOS>')\n",
    "            else:\n",
    "                words.append(voc[self.sentence_idxes[i].item()])\n",
    "        if self.sentence_idxes[-1] != EOS_token:\n",
    "            words.append('<EOS>')\n",
    "        return (words, self.avgScore())\n",
    "\n",
    "def decode(decoder, decoder_hidden, encoder_outputs, voc, max_length=40):\n",
    "\n",
    "    decoder_input = torch.LongTensor([SOS_token])\n",
    "    decoder_input = decoder_input.to(device)\n",
    "\n",
    "    decoded_words = []\n",
    "    decoder_attentions = torch.zeros(max_length, max_length) #TODO: or (MAX_LEN+1, MAX_LEN+1)\n",
    "#     print(decoder_hidden.size())\n",
    "\n",
    "    for di in range(max_length):\n",
    "        decoder_output, decoder_hidden = decoder(\n",
    "            decoder_input, decoder_hidden)\n",
    "        _, topi = decoder_output.topk(3)\n",
    "        ni = topi[0][0]\n",
    "        if ni == EOS_token:\n",
    "            decoded_words.append('<EOS>')\n",
    "            break\n",
    "        else:\n",
    "            decoded_words.append(voc[ni.item()])\n",
    "\n",
    "        decoder_input = torch.LongTensor([ni])\n",
    "        decoder_input = decoder_input.to(device)\n",
    "\n",
    "    return decoded_words, decoder_attentions[:di + 1]\n",
    "\n",
    "\n",
    "def evaluate(encoder, decoder, voc, sentence , max_length=40):\n",
    "    indexes_batch = [sentence] #[1, seq_len]\n",
    "    lengths = [len(indexes) for indexes in indexes_batch]\n",
    "    input_batch = torch.LongTensor(indexes_batch).transpose(0, 1)\n",
    "    input_batch = input_batch.to(device)\n",
    "    batch_size = input_batch.size(1)\n",
    "    encoder_outputs, encoder_hidden = encoder(input_batch, None)\n",
    "\n",
    "    decoder_hidden = encoder_hidden.view(encoder.n_layers, batch_size, -1)\n",
    "    return decode(decoder, decoder_hidden, encoder_outputs, voc)\n",
    "\n",
    "\n",
    "def evaluateRandomly(encoder, decoder, tokenizer, voc, pairs, reverse, beam_size, n=10):\n",
    "    for _ in range(n):\n",
    "        pair = random.choice(pairs)\n",
    "        print(\"=============================================================\")\n",
    "        if reverse:\n",
    "            print('>', \" \".join(reversed(pair[0].split())))\n",
    "        else:\n",
    "            print('>', tokenizer.decode(pair[0]))\n",
    "            print('=', tokenizer.decode(pair[1]))\n",
    "        if beam_size == 1:\n",
    "            output_words, _ = evaluate(encoder, decoder, voc, pair[0], beam_size)\n",
    "            output_sentence = ' '.join(output_words)\n",
    "            print('<', output_sentence)\n",
    "        else:\n",
    "            output_words_list = evaluate(encoder, decoder, voc, pair[0], beam_size)\n",
    "            for output_words, score in output_words_list:\n",
    "                output_sentence = ' '.join(output_words)\n",
    "                print(\"{:.3f} < {}\".format(score, output_sentence))\n",
    "                \n",
    "def predict_out(list_dict, file_path):\n",
    "    with open(file_path , 'w') as outfile:\n",
    "        for entry in list_dict:\n",
    "            json.dump(entry, outfile)\n",
    "            outfile.write('\\n')\n",
    "            \n",
    "def predict(encoder, decoder, voc, pairs):\n",
    "    n = len(pairs)\n",
    "    out = []\n",
    "    show_per = 4000\n",
    "    for i in tnrange(n):\n",
    "        predict = {}\n",
    "        pair = pairs[i]\n",
    "        output_words, attention = evaluate(encoder, decoder, voc, pair[0])\n",
    "        output_sentence = ' '.join(output_words)\n",
    "        if(i % show_per == 0):\n",
    "            print('>', tokenizer.decode(pair[0]))\n",
    "            print('<', output_sentence[:-6])\n",
    "#             show_attention(tokenizer.decode(pair[0]), output_sentence, attention)\n",
    "        predict['id'] = pair[2]\n",
    "        predict['predict'] = output_sentence[:-6]\n",
    "        out.append(predict)\n",
    "    return out"
   ]
  },
  {
   "cell_type": "code",
   "execution_count": 42,
   "metadata": {},
   "outputs": [
    {
     "name": "stdout",
     "output_type": "stream",
     "text": [
      "=============================================================\n",
      "> its food and agriculture organization ( fao ) saw monthly falls in all major commodities , from milk and vegetables to oils , sugar and cereals . <unk> food producers are being hit by slowing demand in china and a russian embargo on western products . <unk> now the european commission is to release € 500 m ( $ 557 m ) to help europe 's farmers . <unk> the commission said the most significant part of the package would support the dairy sector in all eu member states . <unk> dairy farmers have suffered a 20 % fall in european wholesale milk prices in the past year . <unk> the european commission aid comes on top of extra help for european fruit and vegetable farmers , who have been hit by the russian embargo on western food imports in retaliation for eu and us sanctions over the crisis in ukraine . <unk> farmers across europe have been protesting in recent weeks against the plunging prices that they say are destroying their businesses . <unk> on monday , belgian police fired tear gas and water cannon at some 7,000 european farmers demonstrating brussels . <unk> last week , french farmers blocked the streets of paris with more than 1,500 tractors . <unk> but the falling prices are unlikely to be reversed any time soon . <unk> the fao said in a statement : \" ample supplies , a slump in energy prices and concerns over china 's economic slowdown all contributed to the sharpest fall of the fao food price index in almost seven years . \" <unk> the fao has raised its forecast for world cereal output in 2015 to 2.54 billion tonnes , thanks to what looks like good wheat and rice harvests in argentina , brazil and\n",
      "= <s> last month saw a 5.2 % fall in global food prices , the biggest drop in seven years , according to the un . <unk> </s>\n",
      "< the 's highest in the have been a to the vast crops of the , as the of the 's food and the . <unk> <EOS>\n",
      "=============================================================\n",
      "> the party now holds 31 of the 46 seats on the council in which the councillors are elected every four years . <unk> labour gained one more councillor to increase its tally to nine , while the liberal democrats lost seven seats and have two councillors . <unk> the green party now holds a seat on the council after ian davison was elected in the brunswick ward . <unk> meanwhile , <unk> residents association has retained its three seats on the administration . <unk> the conservatives have made gains in council elections across the west midlands , in reflection of the national result . <unk> the tories took worcester city council , herefordshire council and east staffordshire , all previously under no overall control . <unk> the party also made gains in north warwickshire from labour , while labour lost overall control in stoke - on - trent . <unk> however , labour retained control of the city councils in coventry , birmingham and wolverhampton . <unk> </s>\n",
      "= <s> the conservatives have increased their majority on warwick district council by six seats . <unk> </s>\n",
      "< the council council has won the council council council council council after the council of the council . <unk> <EOS>\n"
     ]
    }
   ],
   "source": [
    "tokenizer = Tokenizer(embedding.vocab, lower=False)\n",
    "pairs = generate_pair(valid)\n",
    "evaluateRandomly(encoder, decoder, tokenizer, embedding.vocab, pairs, False, 1, 2)"
   ]
  },
  {
   "cell_type": "code",
   "execution_count": 44,
   "metadata": {},
   "outputs": [],
   "source": [
    "if not os.path.isdir(\"save\"):\n",
    "    os.makedirs(\"save\")\n",
    "# torch.save(seq2seq.state_dict(), './save/seq2seq(attention)_final.pt')"
   ]
  },
  {
   "cell_type": "code",
   "execution_count": 97,
   "metadata": {},
   "outputs": [
    {
     "name": "stderr",
     "output_type": "stream",
     "text": [
      "Setting up a new session...\n",
      "Traceback (most recent call last):\n",
      "  File \"/home/littleemma/ImageDB/imagedb/lib/python3.6/site-packages/urllib3/connection.py\", line 157, in _new_conn\n",
      "    (self._dns_host, self.port), self.timeout, **extra_kw\n",
      "  File \"/home/littleemma/ImageDB/imagedb/lib/python3.6/site-packages/urllib3/util/connection.py\", line 84, in create_connection\n",
      "    raise err\n",
      "  File \"/home/littleemma/ImageDB/imagedb/lib/python3.6/site-packages/urllib3/util/connection.py\", line 74, in create_connection\n",
      "    sock.connect(sa)\n",
      "ConnectionRefusedError: [Errno 111] Connection refused\n",
      "\n",
      "During handling of the above exception, another exception occurred:\n",
      "\n",
      "Traceback (most recent call last):\n",
      "  File \"/home/littleemma/ImageDB/imagedb/lib/python3.6/site-packages/urllib3/connectionpool.py\", line 672, in urlopen\n",
      "    chunked=chunked,\n",
      "  File \"/home/littleemma/ImageDB/imagedb/lib/python3.6/site-packages/urllib3/connectionpool.py\", line 387, in _make_request\n",
      "    conn.request(method, url, **httplib_request_kw)\n",
      "  File \"/usr/lib/python3.6/http/client.py\", line 1254, in request\n",
      "    self._send_request(method, url, body, headers, encode_chunked)\n",
      "  File \"/usr/lib/python3.6/http/client.py\", line 1300, in _send_request\n",
      "    self.endheaders(body, encode_chunked=encode_chunked)\n",
      "  File \"/usr/lib/python3.6/http/client.py\", line 1249, in endheaders\n",
      "    self._send_output(message_body, encode_chunked=encode_chunked)\n",
      "  File \"/usr/lib/python3.6/http/client.py\", line 1036, in _send_output\n",
      "    self.send(msg)\n",
      "  File \"/usr/lib/python3.6/http/client.py\", line 974, in send\n",
      "    self.connect()\n",
      "  File \"/home/littleemma/ImageDB/imagedb/lib/python3.6/site-packages/urllib3/connection.py\", line 184, in connect\n",
      "    conn = self._new_conn()\n",
      "  File \"/home/littleemma/ImageDB/imagedb/lib/python3.6/site-packages/urllib3/connection.py\", line 169, in _new_conn\n",
      "    self, \"Failed to establish a new connection: %s\" % e\n",
      "urllib3.exceptions.NewConnectionError: <urllib3.connection.HTTPConnection object at 0x7fa9909f0b70>: Failed to establish a new connection: [Errno 111] Connection refused\n",
      "\n",
      "During handling of the above exception, another exception occurred:\n",
      "\n",
      "Traceback (most recent call last):\n",
      "  File \"/home/littleemma/ImageDB/imagedb/lib/python3.6/site-packages/requests/adapters.py\", line 449, in send\n",
      "    timeout=timeout\n",
      "  File \"/home/littleemma/ImageDB/imagedb/lib/python3.6/site-packages/urllib3/connectionpool.py\", line 720, in urlopen\n",
      "    method, url, error=e, _pool=self, _stacktrace=sys.exc_info()[2]\n",
      "  File \"/home/littleemma/ImageDB/imagedb/lib/python3.6/site-packages/urllib3/util/retry.py\", line 436, in increment\n",
      "    raise MaxRetryError(_pool, url, error or ResponseError(cause))\n",
      "urllib3.exceptions.MaxRetryError: HTTPConnectionPool(host='localhost', port=8097): Max retries exceeded with url: /env/main (Caused by NewConnectionError('<urllib3.connection.HTTPConnection object at 0x7fa9909f0b70>: Failed to establish a new connection: [Errno 111] Connection refused',))\n",
      "\n",
      "During handling of the above exception, another exception occurred:\n",
      "\n",
      "Traceback (most recent call last):\n",
      "  File \"/home/littleemma/ImageDB/imagedb/lib/python3.6/site-packages/visdom/__init__.py\", line 711, in _send\n",
      "    data=json.dumps(msg),\n",
      "  File \"/home/littleemma/ImageDB/imagedb/lib/python3.6/site-packages/visdom/__init__.py\", line 677, in _handle_post\n",
      "    r = self.session.post(url, data=data)\n",
      "  File \"/home/littleemma/ImageDB/imagedb/lib/python3.6/site-packages/requests/sessions.py\", line 581, in post\n",
      "    return self.request('POST', url, data=data, json=json, **kwargs)\n",
      "  File \"/home/littleemma/ImageDB/imagedb/lib/python3.6/site-packages/requests/sessions.py\", line 533, in request\n",
      "    resp = self.send(prep, **send_kwargs)\n",
      "  File \"/home/littleemma/ImageDB/imagedb/lib/python3.6/site-packages/requests/sessions.py\", line 646, in send\n",
      "    r = adapter.send(request, **kwargs)\n",
      "  File \"/home/littleemma/ImageDB/imagedb/lib/python3.6/site-packages/requests/adapters.py\", line 516, in send\n",
      "    raise ConnectionError(e, request=request)\n",
      "requests.exceptions.ConnectionError: HTTPConnectionPool(host='localhost', port=8097): Max retries exceeded with url: /env/main (Caused by NewConnectionError('<urllib3.connection.HTTPConnection object at 0x7fa9909f0b70>: Failed to establish a new connection: [Errno 111] Connection refused',))\n",
      "[Errno 111] Connection refused\n"
     ]
    },
    {
     "name": "stdout",
     "output_type": "stream",
     "text": [
      "Exception in user code:\n",
      "------------------------------------------------------------\n"
     ]
    }
   ],
   "source": [
    "import io\n",
    "import torchvision\n",
    "from PIL import Image\n",
    "import visdom\n",
    "vis = visdom.Visdom()\n",
    "\n",
    "def show_plot_visdom():\n",
    "    buf = io.BytesIO()\n",
    "    plt.savefig(buf)\n",
    "    buf.seek(0)\n",
    "    vis.image(torchvision.transforms.ToTensor()(Image.open(buf)))\n",
    "\n",
    "def show_attention(input_sentence, output_words, attentions):\n",
    "    # Set up figure with colorbar\n",
    "    fig = plt.figure()\n",
    "    ax = fig.add_subplot(111)\n",
    "    cax = ax.matshow(attentions.numpy(), cmap='bone')\n",
    "    fig.colorbar(cax)\n",
    "\n",
    "    # Set up axes\n",
    "    ax.set_xticklabels(input_sentence, rotation=90)\n",
    "    ax.set_yticklabels(output_words)\n",
    "\n",
    "    # Show label at every tick\n",
    "    ax.xaxis.set_major_locator(ticker.MultipleLocator(1))\n",
    "    ax.yaxis.set_major_locator(ticker.MultipleLocator(1))\n",
    "\n",
    "    show_plot_visdom()\n",
    "    plt.show()\n",
    "    plt.close()"
   ]
  },
  {
   "cell_type": "code",
   "execution_count": 43,
   "metadata": {},
   "outputs": [
    {
     "name": "stderr",
     "output_type": "stream",
     "text": [
      "/home/littleemma/ImageDB/imagedb/lib/python3.6/site-packages/ipykernel_launcher.py:14: TqdmDeprecationWarning: Please use `tqdm.notebook.trange` instead of `tqdm.tnrange`\n",
      "  \n"
     ]
    },
    {
     "data": {
      "application/vnd.jupyter.widget-view+json": {
       "model_id": "8529ee562639468399897025e6161d98",
       "version_major": 2,
       "version_minor": 0
      },
      "text/plain": [
       "HBox(children=(IntProgress(value=0, max=20000), HTML(value='')))"
      ]
     },
     "metadata": {},
     "output_type": "display_data"
    },
    {
     "name": "stdout",
     "output_type": "stream",
     "text": [
      "================================\n",
      "> the building was to be pulled down as part of a redevelopment of the lawn complex in lincoln . <unk> bosses at woodside wildlife park have now stepped in to save it and will move it to their site near <unk> . <unk> it will be used as an attraction housing exotic animals and coral reef aquariums . <unk> the conservatory is named after the lincolnshire botanist who travelled with captain james cook on his first voyage to the south pacific in 1768 . <unk> the grade ii listed lawn complex was sold by city of lincoln council last year to the stokes coffee company which plans to open a cafe and museum on the site . <unk> neil <unk> , director of the wildlife park , said he wanted to save the building , which housed exotic plants and koi carp and was popular with generations of families . <unk> \" i , like a lot of people , spent my younger days coming here and bringing my children here , \" he said . <unk> \" when i heard that it was being demolished and closing down , i thought we were probably in as good a place as anybody to save it . \" <unk> once rebuilt , the conservatory will be used for education and conservation projects , while retaining its heritage as a journey of discovery , mr <unk> said . <unk> he said the plan to house crocodiles , red pandas and exotic plants inside it would \" highlight changes in our planet \" since sir joseph banks ' voyage of discovery . <unk> the council said it had donated a parcel of land at the lawn to the sir joseph banks society to build a new conservatory . <unk> </s>\n",
      "< a glasshouse - size of the size of a \" has \" has opened to the public after it was opened . <unk>\n",
      "================================\n",
      "> an e - mail sent to staff by the chief executive said they had to concentrate on pay and staffing across the library . <unk> it comes after staff at the aberystwyth library threatened to pass a motion of no confidence in <unk> management . <unk> one of the unions at the institution welcomed the decision . <unk> unions are unhappy that more than 200 members have not had a consolidated pay rise since 2009 . <unk> members of prospect cymru and the public and commercial services union ( pcs ) also claim some lower paid staff employed by the institution do not earn a living wage . <unk> the library is currently preparing for consultation on restructuring which will take place over a six week period , <unk> an email to staff on friday from librarian and chief executive aled <unk> jones said the institution needed to \" concentrate on the key matters of pay and staffing across the library \" . <unk> it added : \" it has been decided not to proceed at this time with the temporary acting - up allowances for two members of the executive team . <unk> \" the additional responsibilities allocated to them have also been withdrawn , pending further discussions on how best to deliver the strategic plan . \" <unk> a prospect cymru spokesman said its 170 or so members welcomed the decision to withdraw the allowances . <unk> he added : \" the trade unions now look forward to working with the library to address issues raised by staff . \" <unk> in december , mr jones appealed for money from the public to dampen the effect of a cut to its grant from the welsh government . <unk> he said the library faced a <unk> m reduction in\n",
      "< a welsh language staff at a welsh library in wales are to close their staff , a row over the welsh assembly has said . <unk>\n",
      "================================\n",
      "> however , the electoral reform society , which commissioned the study , said what voters do with their later preferences is \" more diverse and interesting \" . <unk> this survey was carried out in the months following last may 's assembly election . <unk> more than 4,000 people were interviewed for the survey . <unk> about 2,000 of the interviewees filled out mock ballot papers . <unk> not surprisingly , the survey found that the vast majority of voters backed parties traditionally associated with their own community . <unk> only 4 % of catholics gave a unionist a first preference vote , while only 2 % of protestants picked a nationalist . <unk> about a fifth of both protestants and catholics gave their first preferences to a cross community or centrist party , the survey indicated . <unk> when later preferences were included the figures rose , but only slightly , with an estimated 8 % of catholics prepared to give a unionist a vote and 6 % of protestants putting a number against a nationalist box . <unk> in the forthcoming assembly election , depending on where you live , you have a choice of between nine and 15 candidates - but according to this survey the average voter only backs three or four politicians on their ballot paper . <unk> </s>\n",
      "< there were the lack of of parties were suggested in the poll suggested suggested . <unk>\n",
      "================================\n",
      "> <unk> has been advising wales in the run - up to euro 2016 as well as championship side nottingham forest . <unk> villa board member david bernstein said : \" i 'm convinced his experience , contacts and understanding of football will be a tremendous asset . \" <unk> the midlands side are 12 points from safety with seven games remaining . <unk> middlesbrough fan <unk> was managing director of club england during his 17-year stint at the fa . <unk> villa have recently added former bank of england governor sir mervyn king and club legend brian little to their new - look football board , which includes former fa chairman bernstein . <unk> chief executive tom fox and sporting director hendrik <unk> have both left the club , while remi garde 's future as manager remains uncertain . <unk> </s>\n",
      "< aston villa have made a £ £ m m for the championship club <unk>\n",
      "================================\n",
      "> it is the first time an indonesian court has passed jail sentences for recruiting and helping people travel to syria to fight alongside is . <unk> last month , is carried out a series of explosions and gun attacks in jakarta . <unk> the sentencing judge on tuesday said that supporting is should be considered an act of terrorism . <unk> jakarta - based security expert sidney jones told the bbc the verdicts were a step forward but the sentences were too lenient . she said indonesian anti - terrorism laws are not strong enough . <unk> there were calls in the wake of last month 's attack for the country 's anti - terrorism laws to be strengthened . <unk> however , members of parliament are concerned about giving too much power to security forces that have a poor human rights record , the bbc 's rebecca <unk> reports from jakarta . <unk> four of the group sentenced on tuesday had travelled to syria to undertake military training with is . <unk> the other three had helped purchase tickets and recruited people to join the jihadists . <unk> indonesia 's new breed of militants <unk> </s>\n",
      "< indonesian police have convicted a men convicted of terrorism attacks in the country 's <unk>\n",
      "================================\n",
      "> <unk> <unk> khan , 37 , was found dead inside her home in pear tree crescent , normanton , at 21:50 bst on saturday . <unk> <unk> mustafa , 35 , of the same address , was arrested and is accused of her murder . <unk> mr mustafa appeared at southern derbyshire magistrates ' court on monday and is due at nottingham crown court on wednesday . <unk> </s>\n",
      "< a man has been charged with murder murder of a woman who was found in her home home . <unk>\n",
      "================================\n",
      "> daphne the deer was found at waters ' edge country park in barton on wednesday , and later put to sleep . <unk> she was so badly injured she could not be saved , staff at the 110-acre park said . <unk> a £ 200 reward has been issued for information leading to a successful prosecution . <unk> more on this and other stories from across east yorkshire and humberside <unk> the park is home to numerous deer , but daphne , who was about three - years - old , chose to stay close to the visitor centre after people started feeding her . <unk> a spokesman for north lincolnshire council , which owns the site , said she would be \" greatly missed \" . <unk> \" daphne the deer was a friendly face for many visitors to waters ' edge \" , he added . <unk> staff believe she was attacked by a dog and are warning visitors that although dogs are welcome , they must be on either a lead or in close control at all times . <unk> anyone with information about the attack is asked to contact staff at the visitor centre . <unk> </s>\n",
      "< a £ park park is being to a park park which was shot dead park . <unk>\n"
     ]
    },
    {
     "name": "stdout",
     "output_type": "stream",
     "text": [
      "================================\n",
      "> orient are in the league two relegation zone having won one of their last nine games and some fans have called for president francesco <unk> to quit . <unk> but collins told bbc radio london : \" it certainly does n't seem like a place that 's down . training has been positive and the lads have been positive . \" <unk> collins , 30 , made his debut in saturday 's 2 - 0 home defeat by crewe . <unk> he joined the o 's on a three - month contract last week , having been a free agent since leaving indian side bengaluru earlier this year . <unk> and the former huddersfield , scunthorpe and york midfielder believes his new side can climb away from danger . <unk> \" there have been some disappointing results but i do n't think it would take much to turn it around , \" he said . <unk> \" i 've been in sides before where you know there are problems and i do n't sense that here . sometimes in football you just need a bit of luck and over the coming weeks hopefully we 'll get that . <unk> \" nobody is shirking and nobody is hiding . \" <unk> </s>\n",
      "< leyton orient manager james collins says he is \" no longer \" on the , the club , has confirmed . <unk>\n",
      "================================\n",
      "> a national college of teaching and leadership panel found marc richardson , 34 , guilty of unacceptable professional conduct . <unk> the panel heard cctv footage showed the pair emerging from beneath a stage at tottington high school , bury , where he was head of drama . <unk> the married teacher had been previously warned about his behaviour . <unk> in 2012 , he sent \" inappropriate communications \" to another student , whom he said was \" too attractive to teach \" and asked her to keep quiet . he was given a final written warning by the school in january 2013 . <unk> richardson , who did not attend the hearing , admitted being alone with a student in a room under the stage outside teaching hours in 2014 . <unk> he resigned , was arrested and released without charge . <unk> the panel heard he sent messages to the girl , engaging in sexual conversations . <unk> her mother said she had \" niggling feelings \" about the teacher when her daughter asked about the contraceptive pill . <unk> another witness said her friend told her she had \" done everything \" with her boyfriend , who she admitted was richardson . <unk> mark tweedle , panel chairman , said : \" the panel considered it is plain that sexual conversations took place between pupil b and mr richardson , and they contained explicit references to sexual acts between them . \" <unk> he said richardson 's conduct fell \" significantly short of the standards expected of the profession . \" <unk> a spokesman for greater manchester police said of the arrest in 2014 : \" a 32-year - old man was arrested on suspicion of sexual activity with a child and the sexual grooming of\n",
      "< a former school school has been given a \" \" \" \" sex abuse victim , a primary school . <unk>\n",
      "================================\n",
      "> the man was in an office at the demolition site of the ex - odeon cinema in newcastle , at 07:40 bst on tuesday , hours after the cinema collapsed . <unk> scaffolding and part of the building in the process of being demolished fell on the road on monday night . <unk> the health and safety executive ( hse ) said it was probing allegations relating to alcohol . <unk> a spokesman also said it was investigating whether correct working practices were in place during the work . <unk> the 1930s - built cinema , was in the process of being demolished when part of it came down shortly after 23:00 bst on monday . <unk> a bus shelter was crushed by scaffolding and falling masonry , but no - one was hurt in the collapse . <unk> demolition work on the cinema began earlier this year . <unk> </s>\n",
      "< a building of a building collapsed building collapsed collapsed in a building collapsed in collapsed , has been , has said . <unk>\n",
      "================================\n",
      "> officers were called to lavender grove , <unk> , at about 11:20 bst , close to <unk> coed - y - gof , <unk> and holy family primary schools . <unk> south wales police said it was aware of reports of a \" possible abduction \" , but that no - one had been reported missing . <unk> on thursday evening , the force said it was satisfied \" no offences took place \" . <unk> earlier on thursday , young children who reported an incident to teachers were interviewed by officers , who carried out door - to - door inquiries and made cctv and vehicle checks . <unk> the force helicopter was also involved in a search of the area . <unk> ch insp joe jones said he was aware of the concern the reports had caused so close to the three schools and a nursery . <unk> \" i am satisfied it is unlikely that any criminal offences have been committed , \" he said . <unk> before the end of the school day , <unk> <unk> <unk> </s>\n",
      "< a police investigation has been launched after a teenage girl was found dead in a suspected attack on a <unk> in <unk>\n",
      "================================\n",
      "> the stats mark a year of the game going online . <unk> they show nearly 34 m gamers have played around the world in 224 countries . <unk> in a post on rockstar 's newswire , the developers said : \" we just wanted to say thank you to the awesome and dedicated players that have made gta online such a nonstop thrill over the past year . \" <unk> the makers have also said details of the launch of online heists would be announced \" very soon \" . <unk> rockstar says the feature will be available for all four consoles and will be the first gta online update after the game launches on ps4 and xbox one . <unk> follow <unk> on twitter and <unk> on youtube <unk> </s>\n",
      "< the latest fans of the players players are being revealed for the most of players players . <unk>\n",
      "================================\n",
      "> <unk> , 19 , and ball , 20 , represent manager mark warburton 's eighth and ninth signings of the summer window . <unk> both players are a product of the tottenham youth system . <unk> ball spent the second half of last season on loan at cambridge united , making 11 appearances , whilst <unk> also appeared 11 times for luton town . <unk> ball has represented england at under-19 and under-20 level , having previously represented northern ireland at younger age groups . <unk> <unk> has also played for england at youth level , representing his country at the under-18 level . <unk> warburton will have both players available this sunday as rangers continue their championship campaign away to alloa . <unk> </s>\n",
      "< defender aaron <unk> and defender <unk> have been released on loan until the end of the season . <unk>\n",
      "================================\n",
      "> marc mcnulty gave pompey a first - half lead , firing in michael doyle 's free - kick off the underside of the bar . <unk> webster doubled the host 's advantage , blasting home after kyle bennett 's 20-yard shot had struck the woodwork . <unk> luke berry grabbed a consolation for cambridge , slotting in after a free - kick from the left side of the box . <unk> portsmouth manager paul cook told bbc radio solent : <unk> media playback is not supported on this device <unk> \" i felt we had to put in a performance today with character because it was always going to be a tough game to win . <unk> \" apart from conceding a late goal again - which is obviously a problem that we have and it 's a disappointing one - the reality of the three points is really pleasing . <unk> \" today 's about winning . we 've played well in the past and not won . the win lifts the whole mood of the place and it 's important that i 'm the one to do that . <unk> \" i was brought in to do a job , i 'm 32 games in to that ; the more we stay together and stay strong the stronger we 'll get and the further we 'll go . \" <unk> </s>\n",
      "< portsmouth will play their first - league play - off chasers portsmouth in a late - 4 victory over portsmouth . <unk>\n",
      "================================\n",
      "> yorkshire beat glamorgan by 90 runs on thursday to complete an all - north group teams finals day on 20 august . <unk> they will face a durham side who have never won the competition . <unk> northants , winners in 2013 and runners - up last year , face a nottinghamshire side whose previous best in t20 competition was as runners - up in 2006 . <unk> </s>\n",
      "< northants all - day international championship finals of the 2017 t20 blast competition . <unk>\n"
     ]
    },
    {
     "name": "stdout",
     "output_type": "stream",
     "text": [
      "================================\n",
      "> herve <unk> was on trial for leaking bank data that led to tax evasion probes worldwide against prominent clients with accounts in switzerland . <unk> <unk> did not attend the trial and because france does not extradite its own citizens , it is unlikely he will serve the sentence . <unk> he told ap news agency he had \" no reaction \" to the sentencing . <unk> <unk> had refused to travel from france to appear before the swiss federal tribunal in <unk> for a trial that began last month . <unk> he was charged with illegally obtaining data , economic espionage , breach of business confidentiality and breach of bank secrecy while working at a swiss hsbc subsidiary between 2006 and 2008 . <unk> the court rejected all the charges except for one alleging a violation of economic intelligence , for having made public information about foreign entities in lebanon , france , germany , and the uk . <unk> hsbc , which argued that he had illegally downloaded details from clients and accounts , welcomed the decision against <unk> , who was an it worker at hsbc private bank ( suisse ) . <unk> \" hsbc has always maintained that <unk> systematically stole clients ' information in order to sell it for his own personal financial gain , ' ' hsbc said in a statement . <unk> </s>\n",
      "< the uk 's chief executive of <unk> has been jailed for fraud in tax fraud tax fraud . <unk>\n",
      "================================\n",
      "> mr trump plans to slash the us rate from 35 % to 15 % to get manufacturers to move work to the united states . <unk> stephen moore said the tax policy was mainly aimed at bringing work back from asian countries . <unk> but he did not rule out an impact on northern ireland . <unk> \" i would n't say it 's nothing to worry about ( for northern ireland ) ... i want to see jobs for america first , \" he said . <unk> us companies are major investors in northern ireland and include manufacturing firms such as caterpillar , terex , ge and emerson . <unk> mr moore had previously talked about a \" flood of companies \" leaving the republic of ireland as a result of the planned tax change . <unk> in an interview with bbc radio ulster he was more measured saying : \" it 's not like all of a sudden all these companies are going to leave and come back to the us - some might . \" <unk> mr moore also agreed that us companies would continue to invest abroad . <unk> he praised the low corporation tax polices of the british and irish governments and said the northern ireland executive was right to pursue a policy of cutting the tax . <unk> \" capital flows to where its treated most kindly . taxes are n't the only thing but they do matter , \" he said . <unk> he also played down the possibility of a trade war with china or other countries saying the us simply wanted to renegotiate existing agreements . <unk> listen to the interview with stephen moore on bbc ni 's good morning ulster at 08:15 gmt on tuesday . <unk> </s>\n",
      "< ulster secretary michael chief executive kevin <unk> has said he would not be discussed in the northern ireland executive executive . <unk>\n",
      "================================\n",
      "> the 16-year - old was reported missing on 19 february . body parts were found at a house in the barton hill area of bristol on 2 march . <unk> organisers said although the walk \" wo n't bring becky back \" it will help \" give this beautiful young girl the send - off she deserves \" . <unk> becky 's stepbrother nathan matthews , 28 , has been charged with her murder . <unk> friends have sold wristbands , t - shirts and balloons to help support her family . <unk> the walk started at 11:00 gmt on the centre and is making its way to castle park where balloons are due to be released in her memory . <unk> earlier this week , mr matthews , from <unk> , bristol , appeared by video link at bristol crown court . <unk> he has yet to enter a plea to the charge and was told a provisional trial date had been set for october . <unk> his girlfriend , shauna hoare , 21 , who is charged with perverting the course of justice , also appeared by video link . <unk> four other defendants have been charged with assisting an offender . <unk> </s>\n",
      "< a teenager who was due to appear in court later this year 's day of her family , has been released on her . <unk>\n",
      "================================\n",
      "> ruth munro 's mother , margaret <unk> , died in september 1993 aged 73 . <unk> but a court heard she continued to draw ms <unk> 's pensions from british steel corporation and diageo . <unk> munro , 67 , from <unk> , <unk> , admitted defrauding the schemes of <unk> . <unk> alloa sheriff court was told that between 1993 and may 2015 - by which time ms <unk> would have been 94 - she pretended to the administrators of both pension schemes that her mother was still alive . <unk> sheriff linda smith deferred sentence for a criminal justice social work report until 10 november and ordered munro to reappear then . <unk> she said : \" i 'll continue this for reports to be made available . \" <unk> it is expected that munro 's solicitor , jay <unk> , will outline mitigating circumstances at the november hearing . <unk> </s>\n",
      "< a woman who admitted admitted admitted a her husband and her aunt 's home and her and her . <unk>\n",
      "================================\n",
      "> all - night weekend services are set to begin on 12 september on sections of the central , jubilee , northern , piccadilly and victoria lines . <unk> however , the union <unk> has already announced its members will strike for 24 hours on 8 july from 21:30 bst over pay and conditions for the service . <unk> district organiser finn brennan said drivers would have to work unlimited night shifts for no extra pay . <unk> ' it 's easy enough to produce a map , but if london underground management want to have an all - night service in september , then they need to sit down and negotiate a fair deal for the staff they expect to provide it , \" he said . <unk> 2015 night tube services <unk> \" <unk> are n't opposed to all - night services but they have to be introduced in a way that is fair and protects the work - life balance of the hard working staff . \" <unk> the rmt and <unk> unions are also balloting their members for industrial action over the same issue . <unk> gareth powell , from london underground , said : \" as well as making life easier for people , the night tube will also boost london 's night - time economy - supporting thousands of jobs and stimulating hundreds of millions of pounds in economic growth . \" <unk> the hope is that all - night services will be extended to the london overground in 2017 as well as the metropolitan , circle , district and hammersmith and city lines . <unk> a round - the - clock service is planned for the docklands light railway by 2021 . <unk> </s>\n",
      "< the 24-hour tube service ( <unk> ) has announced it will to a a night tube services to the a planned tube service . <unk>\n",
      "\n"
     ]
    }
   ],
   "source": [
    "import json\n",
    "tokenizer = Tokenizer(embedding.vocab, lower=False)\n",
    "\n",
    "def predict_out(list_dict, file_path):\n",
    "    with open(file_path , 'w') as outfile:\n",
    "        for entry in list_dict:\n",
    "            json.dump(entry, outfile)\n",
    "            outfile.write('\\n')\n",
    "            \n",
    "def predict(encoder, decoder, voc, pairs):\n",
    "    n = len(pairs)\n",
    "    out = []\n",
    "    show_per = 1000\n",
    "    for i in tnrange(n):\n",
    "        predict = {}\n",
    "        pair = pairs[i]\n",
    "        output_words, attention = evaluate(encoder, decoder, voc, pair[0])\n",
    "        output_sentence = ' '.join(output_words)\n",
    "        if(i % show_per == 0):\n",
    "            print('================================')\n",
    "            print('>', tokenizer.decode(pair[0]))\n",
    "            print('<', output_sentence[:-6])\n",
    "#             show_attention(tokenizer.decode(pair[0]), output_sentence, attention)\n",
    "        predict['id'] = pair[2]\n",
    "        predict['predict'] = output_sentence[:-6]\n",
    "        out.append(predict)\n",
    "    return out\n",
    "\n",
    "pairs = generate_pair(valid)\n",
    "out = predict(encoder, decoder, embedding.vocab, pairs)\n",
    "predict_out(out, \"../data/attention_output.jsonl\")"
   ]
  },
  {
   "cell_type": "code",
   "execution_count": 83,
   "metadata": {},
   "outputs": [],
   "source": []
  },
  {
   "cell_type": "code",
   "execution_count": 39,
   "metadata": {},
   "outputs": [
    {
     "name": "stderr",
     "output_type": "stream",
     "text": [
      "/home/littleemma/ImageDB/imagedb/lib/python3.6/site-packages/ipykernel_launcher.py:14: TqdmDeprecationWarning: Please use `tqdm.notebook.trange` instead of `tqdm.tnrange`\n",
      "  \n"
     ]
    },
    {
     "data": {
      "application/vnd.jupyter.widget-view+json": {
       "model_id": "97e5c94d186f4b99ae9c5cb273d05a7b",
       "version_major": 2,
       "version_minor": 0
      },
      "text/plain": [
       "HBox(children=(IntProgress(value=0, max=20000), HTML(value='')))"
      ]
     },
     "metadata": {},
     "output_type": "display_data"
    },
    {
     "name": "stdout",
     "output_type": "stream",
     "text": [
      "================================\n",
      "> the building was to be pulled down as part of a redevelopment of the lawn complex in lincoln . <unk> bosses at woodside wildlife park have now stepped in to save it and will move it to their site near <unk> . <unk> it will be used as an attraction housing exotic animals and coral reef aquariums . <unk> the conservatory is named after the lincolnshire botanist who travelled with captain james cook on his first voyage to the south pacific in 1768 . <unk> the grade ii listed lawn complex was sold by city of lincoln council last year to the stokes coffee company which plans to open a cafe and museum on the site . <unk> neil <unk> , director of the wildlife park , said he wanted to save the building , which housed exotic plants and koi carp and was popular with generations of families . <unk> \" i , like a lot of people , spent my younger days coming here and bringing my children here , \" he said . <unk> \" when i heard that it was being demolished and closing down , i thought we were probably in as good a place as anybody to save it . \" <unk> once rebuilt , the conservatory will be used for education and conservation projects , while retaining its heritage as a journey of discovery , mr <unk> said . <unk> he said the plan to house crocodiles , red pandas and exotic plants inside it would \" highlight changes in our planet \" since sir joseph banks ' voyage of discovery . <unk> the council said it had donated a parcel of land at the lawn to the sir joseph banks society to build a new conservatory . <unk> </s>\n",
      "< a historic century lighthouse has been opened in a new £ park in the\n",
      "================================\n",
      "> an e - mail sent to staff by the chief executive said they had to concentrate on pay and staffing across the library . <unk> it comes after staff at the aberystwyth library threatened to pass a motion of no confidence in <unk> management . <unk> one of the unions at the institution welcomed the decision . <unk> unions are unhappy that more than 200 members have not had a consolidated pay rise since 2009 . <unk> members of prospect cymru and the public and commercial services union ( pcs ) also claim some lower paid staff employed by the institution do not earn a living wage . <unk> the library is currently preparing for consultation on restructuring which will take place over a six week period , <unk> an email to staff on friday from librarian and chief executive aled <unk> jones said the institution needed to \" concentrate on the key matters of pay and staffing across the library \" . <unk> it added : \" it has been decided not to proceed at this time with the temporary acting - up allowances for two members of the executive team . <unk> \" the additional responsibilities allocated to them have also been withdrawn , pending further discussions on how best to deliver the strategic plan . \" <unk> a prospect cymru spokesman said its 170 or so members welcomed the decision to withdraw the allowances . <unk> he added : \" the trade unions now look forward to working with the library to address issues raised by staff . \" <unk> in december , mr jones appealed for money from the public to dampen the effect of a cut to its grant from the welsh government . <unk> he said the library faced a <unk> m reduction in\n",
      "< a welsh language staff at a university 's university 's <unk> in a row over the assembly , has said . <unk>\n",
      "================================\n",
      "> however , the electoral reform society , which commissioned the study , said what voters do with their later preferences is \" more diverse and interesting \" . <unk> this survey was carried out in the months following last may 's assembly election . <unk> more than 4,000 people were interviewed for the survey . <unk> about 2,000 of the interviewees filled out mock ballot papers . <unk> not surprisingly , the survey found that the vast majority of voters backed parties traditionally associated with their own community . <unk> only 4 % of catholics gave a unionist a first preference vote , while only 2 % of protestants picked a nationalist . <unk> about a fifth of both protestants and catholics gave their first preferences to a cross community or centrist party , the survey indicated . <unk> when later preferences were included the figures rose , but only slightly , with an estimated 8 % of catholics prepared to give a unionist a vote and 6 % of protestants putting a number against a nationalist box . <unk> in the forthcoming assembly election , depending on where you live , you have a choice of between nine and 15 candidates - but according to this survey the average voter only backs three or four politicians on their ballot paper . <unk> </s>\n",
      "< there were standing in the poll poll poll suggested suggested suggested . <unk>\n",
      "================================\n",
      "> <unk> has been advising wales in the run - up to euro 2016 as well as championship side nottingham forest . <unk> villa board member david bernstein said : \" i 'm convinced his experience , contacts and understanding of football will be a tremendous asset . \" <unk> the midlands side are 12 points from safety with seven games remaining . <unk> middlesbrough fan <unk> was managing director of club england during his 17-year stint at the fa . <unk> villa have recently added former bank of england governor sir mervyn king and club legend brian little to their new - look football board , which includes former fa chairman bernstein . <unk> chief executive tom fox and sporting director hendrik <unk> have both left the club , while remi garde 's future as manager remains uncertain . <unk> </s>\n",
      "< aston villa have approached the club championship club they need to speak to the club championship club . <unk>\n",
      "================================\n",
      "> it is the first time an indonesian court has passed jail sentences for recruiting and helping people travel to syria to fight alongside is . <unk> last month , is carried out a series of explosions and gun attacks in jakarta . <unk> the sentencing judge on tuesday said that supporting is should be considered an act of terrorism . <unk> jakarta - based security expert sidney jones told the bbc the verdicts were a step forward but the sentences were too lenient . she said indonesian anti - terrorism laws are not strong enough . <unk> there were calls in the wake of last month 's attack for the country 's anti - terrorism laws to be strengthened . <unk> however , members of parliament are concerned about giving too much power to security forces that have a poor human rights record , the bbc 's rebecca <unk> reports from jakarta . <unk> four of the group sentenced on tuesday had travelled to syria to undertake military training with is . <unk> the other three had helped purchase tickets and recruited people to join the jihadists . <unk> indonesia 's new breed of militants <unk> </s>\n",
      "< a court in indonesia has been a of a to to reduce the of terror attacks on the . <unk>\n",
      "================================\n",
      "> <unk> <unk> khan , 37 , was found dead inside her home in pear tree crescent , normanton , at 21:50 bst on saturday . <unk> <unk> mustafa , 35 , of the same address , was arrested and is accused of her murder . <unk> mr mustafa appeared at southern derbyshire magistrates ' court on monday and is due at nottingham crown court on wednesday . <unk> </s>\n",
      "< a man has been charged with murder murder of a woman in a home in a . <unk>\n",
      "================================\n",
      "> daphne the deer was found at waters ' edge country park in barton on wednesday , and later put to sleep . <unk> she was so badly injured she could not be saved , staff at the 110-acre park said . <unk> a £ 200 reward has been issued for information leading to a successful prosecution . <unk> more on this and other stories from across east yorkshire and humberside <unk> the park is home to numerous deer , but daphne , who was about three - years - old , chose to stay close to the visitor centre after people started feeding her . <unk> a spokesman for north lincolnshire council , which owns the site , said she would be \" greatly missed \" . <unk> \" daphne the deer was a friendly face for many visitors to waters ' edge \" , he added . <unk> staff believe she was attacked by a dog and are warning visitors that although dogs are welcome , they must be on either a lead or in close control at all times . <unk> anyone with information about the attack is asked to contact staff at the visitor centre . <unk> </s>\n",
      "< a £ park has been shot dead park park park park park has been shot dead . <unk>\n"
     ]
    },
    {
     "name": "stdout",
     "output_type": "stream",
     "text": [
      "================================\n",
      "> orient are in the league two relegation zone having won one of their last nine games and some fans have called for president francesco <unk> to quit . <unk> but collins told bbc radio london : \" it certainly does n't seem like a place that 's down . training has been positive and the lads have been positive . \" <unk> collins , 30 , made his debut in saturday 's 2 - 0 home defeat by crewe . <unk> he joined the o 's on a three - month contract last week , having been a free agent since leaving indian side bengaluru earlier this year . <unk> and the former huddersfield , scunthorpe and york midfielder believes his new side can climb away from danger . <unk> \" there have been some disappointing results but i do n't think it would take much to turn it around , \" he said . <unk> \" i 've been in sides before where you know there are problems and i do n't sense that here . sometimes in football you just need a bit of luck and over the coming weeks hopefully we 'll get that . <unk> \" nobody is shirking and nobody is hiding . \" <unk> </s>\n",
      "< leyton orient have said they are \" extremely \" \" \" , but manager , , who , who , who , who is \" , according to reports . <unk>\n",
      "================================\n",
      "> a national college of teaching and leadership panel found marc richardson , 34 , guilty of unacceptable professional conduct . <unk> the panel heard cctv footage showed the pair emerging from beneath a stage at tottington high school , bury , where he was head of drama . <unk> the married teacher had been previously warned about his behaviour . <unk> in 2012 , he sent \" inappropriate communications \" to another student , whom he said was \" too attractive to teach \" and asked her to keep quiet . he was given a final written warning by the school in january 2013 . <unk> richardson , who did not attend the hearing , admitted being alone with a student in a room under the stage outside teaching hours in 2014 . <unk> he resigned , was arrested and released without charge . <unk> the panel heard he sent messages to the girl , engaging in sexual conversations . <unk> her mother said she had \" niggling feelings \" about the teacher when her daughter asked about the contraceptive pill . <unk> another witness said her friend told her she had \" done everything \" with her boyfriend , who she admitted was richardson . <unk> mark tweedle , panel chairman , said : \" the panel considered it is plain that sexual conversations took place between pupil b and mr richardson , and they contained explicit references to sexual acts between them . \" <unk> he said richardson 's conduct fell \" significantly short of the standards expected of the profession . \" <unk> a spokesman for greater manchester police said of the arrest in 2014 : \" a 32-year - old man was arrested on suspicion of sexual activity with a child and the sexual grooming of\n",
      "< a biology school who who kissed and then \" \" \" motivated \" \" motivated \" \" has been banned from teaching . <unk>\n",
      "================================\n",
      "> the man was in an office at the demolition site of the ex - odeon cinema in newcastle , at 07:40 bst on tuesday , hours after the cinema collapsed . <unk> scaffolding and part of the building in the process of being demolished fell on the road on monday night . <unk> the health and safety executive ( hse ) said it was probing allegations relating to alcohol . <unk> a spokesman also said it was investigating whether correct working practices were in place during the work . <unk> the 1930s - built cinema , was in the process of being demolished when part of it came down shortly after 23:00 bst on monday . <unk> a bus shelter was crushed by scaffolding and falling masonry , but no - one was hurt in the collapse . <unk> demolition work on the cinema began earlier this year . <unk> </s>\n",
      "< a building which collapsed in a disused building cinema , has been collapsed , has been , has said . <unk>\n",
      "================================\n",
      "> officers were called to lavender grove , <unk> , at about 11:20 bst , close to <unk> coed - y - gof , <unk> and holy family primary schools . <unk> south wales police said it was aware of reports of a \" possible abduction \" , but that no - one had been reported missing . <unk> on thursday evening , the force said it was satisfied \" no offences took place \" . <unk> earlier on thursday , young children who reported an incident to teachers were interviewed by officers , who carried out door - to - door inquiries and made cctv and vehicle checks . <unk> the force helicopter was also involved in a search of the area . <unk> ch insp joe jones said he was aware of the concern the reports had caused so close to the three schools and a nursery . <unk> \" i am satisfied it is unlikely that any criminal offences have been committed , \" he said . <unk> before the end of the school day , <unk> <unk> <unk> </s>\n",
      "< a police investigation has been launched after a suspected of a teenage girl in a suspected of <unk>\n",
      "================================\n",
      "> the stats mark a year of the game going online . <unk> they show nearly 34 m gamers have played around the world in 224 countries . <unk> in a post on rockstar 's newswire , the developers said : \" we just wanted to say thank you to the awesome and dedicated players that have made gta online such a nonstop thrill over the past year . \" <unk> the makers have also said details of the launch of online heists would be announced \" very soon \" . <unk> rockstar says the feature will be available for all four consoles and will be the first gta online update after the game launches on ps4 and xbox one . <unk> follow <unk> on twitter and <unk> on youtube <unk> </s>\n",
      "< the of the first game of the most valuable fans in the the series of the . <unk>\n",
      "================================\n",
      "> <unk> , 19 , and ball , 20 , represent manager mark warburton 's eighth and ninth signings of the summer window . <unk> both players are a product of the tottenham youth system . <unk> ball spent the second half of last season on loan at cambridge united , making 11 appearances , whilst <unk> also appeared 11 times for luton town . <unk> ball has represented england at under-19 and under-20 level , having previously represented northern ireland at younger age groups . <unk> <unk> has also played for england at youth level , representing his country at the under-18 level . <unk> warburton will have both players available this sunday as rangers continue their championship campaign away to alloa . <unk> </s>\n",
      "< tottenham have released defender tom <unk> and defender robbie <unk> and defender robbie <unk> on loan for the remainder of the season . <unk>\n",
      "================================\n",
      "> marc mcnulty gave pompey a first - half lead , firing in michael doyle 's free - kick off the underside of the bar . <unk> webster doubled the host 's advantage , blasting home after kyle bennett 's 20-yard shot had struck the woodwork . <unk> luke berry grabbed a consolation for cambridge , slotting in after a free - kick from the left side of the box . <unk> portsmouth manager paul cook told bbc radio solent : <unk> media playback is not supported on this device <unk> \" i felt we had to put in a performance today with character because it was always going to be a tough game to win . <unk> \" apart from conceding a late goal again - which is obviously a problem that we have and it 's a disappointing one - the reality of the three points is really pleasing . <unk> \" today 's about winning . we 've played well in the past and not won . the win lifts the whole mood of the place and it 's important that i 'm the one to do that . <unk> \" i was brought in to do a job , i 'm 32 games in to that ; the more we stay together and stay strong the stronger we 'll get and the further we 'll go . \" <unk> </s>\n",
      "< portsmouth moved to a late - league play - off chasers portsmouth in a first leg . <unk>\n",
      "================================\n",
      "> yorkshire beat glamorgan by 90 runs on thursday to complete an all - north group teams finals day on 20 august . <unk> they will face a durham side who have never won the competition . <unk> northants , winners in 2013 and runners - up last year , face a nottinghamshire side whose previous best in t20 competition was as runners - up in 2006 . <unk> </s>\n",
      "< durham and a matches in the county championship matches in the county the t20 blast competition in the . <unk>\n"
     ]
    },
    {
     "name": "stdout",
     "output_type": "stream",
     "text": [
      "================================\n",
      "> herve <unk> was on trial for leaking bank data that led to tax evasion probes worldwide against prominent clients with accounts in switzerland . <unk> <unk> did not attend the trial and because france does not extradite its own citizens , it is unlikely he will serve the sentence . <unk> he told ap news agency he had \" no reaction \" to the sentencing . <unk> <unk> had refused to travel from france to appear before the swiss federal tribunal in <unk> for a trial that began last month . <unk> he was charged with illegally obtaining data , economic espionage , breach of business confidentiality and breach of bank secrecy while working at a swiss hsbc subsidiary between 2006 and 2008 . <unk> the court rejected all the charges except for one alleging a violation of economic intelligence , for having made public information about foreign entities in lebanon , france , germany , and the uk . <unk> hsbc , which argued that he had illegally downloaded details from clients and accounts , welcomed the decision against <unk> , who was an it worker at hsbc private bank ( suisse ) . <unk> \" hsbc has always maintained that <unk> systematically stole clients ' information in order to sell it for his own personal financial gain , ' ' hsbc said in a statement . <unk> </s>\n",
      "< the uk 's agriculture agency has has admitted to tax evasion tax evasion tax evasion . <unk>\n",
      "================================\n",
      "> mr trump plans to slash the us rate from 35 % to 15 % to get manufacturers to move work to the united states . <unk> stephen moore said the tax policy was mainly aimed at bringing work back from asian countries . <unk> but he did not rule out an impact on northern ireland . <unk> \" i would n't say it 's nothing to worry about ( for northern ireland ) ... i want to see jobs for america first , \" he said . <unk> us companies are major investors in northern ireland and include manufacturing firms such as caterpillar , terex , ge and emerson . <unk> mr moore had previously talked about a \" flood of companies \" leaving the republic of ireland as a result of the planned tax change . <unk> in an interview with bbc radio ulster he was more measured saying : \" it 's not like all of a sudden all these companies are going to leave and come back to the us - some might . \" <unk> mr moore also agreed that us companies would continue to invest abroad . <unk> he praised the low corporation tax polices of the british and irish governments and said the northern ireland executive was right to pursue a policy of cutting the tax . <unk> \" capital flows to where its treated most kindly . taxes are n't the only thing but they do matter , \" he said . <unk> he also played down the possibility of a trade war with china or other countries saying the us simply wanted to renegotiate existing agreements . <unk> listen to the interview with stephen moore on bbc ni 's good morning ulster at 08:15 gmt on tuesday . <unk> </s>\n",
      "< the us secretary ash chief executive has said he is \" focused on the \" of the ireland 's economy , as the secretary of state of said . <unk>\n",
      "================================\n",
      "> the 16-year - old was reported missing on 19 february . body parts were found at a house in the barton hill area of bristol on 2 march . <unk> organisers said although the walk \" wo n't bring becky back \" it will help \" give this beautiful young girl the send - off she deserves \" . <unk> becky 's stepbrother nathan matthews , 28 , has been charged with her murder . <unk> friends have sold wristbands , t - shirts and balloons to help support her family . <unk> the walk started at 11:00 gmt on the centre and is making its way to castle park where balloons are due to be released in her memory . <unk> earlier this week , mr matthews , from <unk> , bristol , appeared by video link at bristol crown court . <unk> he has yet to enter a plea to the charge and was told a provisional trial date had been set for october . <unk> his girlfriend , shauna hoare , 21 , who is charged with perverting the course of justice , also appeared by video link . <unk> four other defendants have been charged with assisting an offender . <unk> </s>\n",
      "< a teenager who was due to appear to appear in court later this year 's day of her teenager . <unk>\n",
      "================================\n",
      "> ruth munro 's mother , margaret <unk> , died in september 1993 aged 73 . <unk> but a court heard she continued to draw ms <unk> 's pensions from british steel corporation and diageo . <unk> munro , 67 , from <unk> , <unk> , admitted defrauding the schemes of <unk> . <unk> alloa sheriff court was told that between 1993 and may 2015 - by which time ms <unk> would have been 94 - she pretended to the administrators of both pension schemes that her mother was still alive . <unk> sheriff linda smith deferred sentence for a criminal justice social work report until 10 november and ordered munro to reappear then . <unk> she said : \" i 'll continue this for reports to be made available . \" <unk> it is expected that munro 's solicitor , jay <unk> , will outline mitigating circumstances at the november hearing . <unk> </s>\n",
      "< a woman who admitted admitted her mother to her her husband and her her and her her aunt . <unk>\n",
      "================================\n",
      "> all - night weekend services are set to begin on 12 september on sections of the central , jubilee , northern , piccadilly and victoria lines . <unk> however , the union <unk> has already announced its members will strike for 24 hours on 8 july from 21:30 bst over pay and conditions for the service . <unk> district organiser finn brennan said drivers would have to work unlimited night shifts for no extra pay . <unk> ' it 's easy enough to produce a map , but if london underground management want to have an all - night service in september , then they need to sit down and negotiate a fair deal for the staff they expect to provide it , \" he said . <unk> 2015 night tube services <unk> \" <unk> are n't opposed to all - night services but they have to be introduced in a way that is fair and protects the work - life balance of the hard working staff . \" <unk> the rmt and <unk> unions are also balloting their members for industrial action over the same issue . <unk> gareth powell , from london underground , said : \" as well as making life easier for people , the night tube will also boost london 's night - time economy - supporting thousands of jobs and stimulating hundreds of millions of pounds in economic growth . \" <unk> the hope is that all - night services will be extended to the london overground in 2017 as well as the metropolitan , circle , district and hammersmith and city lines . <unk> a round - the - clock service is planned for the docklands light railway by 2021 . <unk> </s>\n",
      "< the weekend tube service will be the on the night tube service ( lu ) , will be announced . <unk>\n",
      "\n"
     ]
    }
   ],
   "source": [
    "# encoder = Encoder(en_size, embedding, hidden_size,\n",
    "#                   n_layers=2, dropout=0.2)\n",
    "# decoder = Decoder(embedding, hidden_size, en_size,\n",
    "#                   n_layers=1, dropout=0.2)\n",
    "model = Seq2Seq(encoder, decoder).cuda()\n",
    "model.load_state_dict(torch.load('./save/seq2seq_10002.pt'))\n",
    "out = predict(model.encoder, model.decoder, embedding.vocab, pairs)\n",
    "predict_out(out, \"../data/attention_output.jsonl\")"
   ]
  },
  {
   "cell_type": "code",
   "execution_count": null,
   "metadata": {},
   "outputs": [],
   "source": []
  }
 ],
 "metadata": {
  "kernelspec": {
   "display_name": "imagedb",
   "language": "python",
   "name": "imagedb"
  },
  "language_info": {
   "codemirror_mode": {
    "name": "ipython",
    "version": 3
   },
   "file_extension": ".py",
   "mimetype": "text/x-python",
   "name": "python",
   "nbconvert_exporter": "python",
   "pygments_lexer": "ipython3",
   "version": "3.6.8"
  }
 },
 "nbformat": 4,
 "nbformat_minor": 2
}
